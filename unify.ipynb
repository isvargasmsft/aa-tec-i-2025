{
 "cells": [
  {
   "cell_type": "markdown",
   "metadata": {},
   "source": [
    "# Unificar CSVs\n",
    "Pokemoneeeeeeeesssss"
   ]
  },
  {
   "cell_type": "code",
   "execution_count": 6,
   "metadata": {},
   "outputs": [
    {
     "name": "stdout",
     "output_type": "stream",
     "text": [
      "Number of CSV files read: 6\n"
     ]
    }
   ],
   "source": [
    "import os\n",
    "import pandas as pd\n",
    "\n",
    "def read_csv_files_in_current_folder():\n",
    "    data_frames = []\n",
    "    # Get the current working directory\n",
    "    current_folder = os.getcwd()\n",
    "    # List all files in the current directory\n",
    "    files = os.listdir(current_folder)\n",
    "    # Iterate over each file\n",
    "    for file in files:\n",
    "        if file.endswith('.csv'):\n",
    "            file_path = os.path.join(current_folder, file)\n",
    "            df = pd.read_csv(file_path)\n",
    "            data_frames.append(df)\n",
    "    return data_frames\n",
    "\n",
    "# Read all CSV files in the same folder as the code\n",
    "data_frames = read_csv_files_in_current_folder()\n",
    "# Print the number of data frames read\n",
    "print(f\"Number of CSV files read: {len(data_frames)}\")"
   ]
  },
  {
   "cell_type": "code",
   "execution_count": 7,
   "metadata": {},
   "outputs": [
    {
     "name": "stdout",
     "output_type": "stream",
     "text": [
      "The data set with a lenght 1025 and column names Index(['id', 'name', 'height', 'weight', 'hp', 'attack', 'defense', 's_attack',\n",
      "       's_defense', 'speed', 'type', 'evo_set', 'info'],\n",
      "      dtype='object')\n",
      "The data set with a lenght 800 and column names Index(['#', 'Name', 'Type 1', 'Type 2', 'Total', 'HP', 'Attack', 'Defense',\n",
      "       'Sp. Atk', 'Sp. Def', 'Speed', 'Generation', 'Legendary'],\n",
      "      dtype='object')\n",
      "The data set with a lenght 809 and column names Index(['Name', 'Type1', 'Type2', 'Evolution'], dtype='object')\n",
      "The data set with a lenght 801 and column names Index(['abilities', 'against_bug', 'against_dark', 'against_dragon',\n",
      "       'against_electric', 'against_fairy', 'against_fight', 'against_fire',\n",
      "       'against_flying', 'against_ghost', 'against_grass', 'against_ground',\n",
      "       'against_ice', 'against_normal', 'against_poison', 'against_psychic',\n",
      "       'against_rock', 'against_steel', 'against_water', 'attack',\n",
      "       'base_egg_steps', 'base_happiness', 'base_total', 'capture_rate',\n",
      "       'classfication', 'defense', 'experience_growth', 'height_m', 'hp',\n",
      "       'japanese_name', 'name', 'percentage_male', 'pokedex_number',\n",
      "       'sp_attack', 'sp_defense', 'speed', 'type1', 'type2', 'weight_kg',\n",
      "       'generation', 'is_legendary'],\n",
      "      dtype='object')\n",
      "The data set with a lenght 905 and column names Index(['Name', 'Pokedex Number', 'Type1', 'Type2', 'Classification',\n",
      "       'Height (m)', 'Weight (kg)', 'Abilities', 'Generation',\n",
      "       'Legendary Status'],\n",
      "      dtype='object')\n",
      "The data set with a lenght 905 and column names Index(['Name', 'Pokedex Number', 'Type1', 'Type2', 'Classification',\n",
      "       'Height (m)', 'Weight (kg)', 'Abilities', 'Generation',\n",
      "       'Legendary Status'],\n",
      "      dtype='object')\n"
     ]
    }
   ],
   "source": [
    "for _ in data_frames:\n",
    "    print(f\"The data set with a lenght {len(_)} and column names {_.columns}\")\n"
   ]
  },
  {
   "cell_type": "code",
   "execution_count": 33,
   "metadata": {},
   "outputs": [],
   "source": [
    "import pandas as pd\n",
    "\n",
    "# Assuming data_frames is a list of DataFrames loaded in the same order as described\n",
    "base_df = data_frames[0]  # The dataset with 1025 rows\n",
    "\n",
    "# Standardize column names for merging\n",
    "base_df.rename(columns=lambda x: x.strip().lower().replace(' ', '_').replace('-', '_'), inplace=True)\n",
    "\n",
    "# Dataset 2: Merge using '#' (Pokedex ID)\n",
    "df2 = data_frames[1]\n",
    "df2.rename(columns=lambda x: x.strip().lower().replace(' ', '_').replace('-', '_'), inplace=True)\n",
    "df2.rename(columns={'#': 'id'}, inplace=True)\n",
    "base_df = base_df.merge(df2, on='id', how='left')\n",
    "\n",
    "# Dataset 3: Merge using 'name' (no Pokedex ID available)\n",
    "df3 = data_frames[2]\n",
    "df3.rename(columns=lambda x: x.strip().lower().replace(' ', '_').replace('-', '_'), inplace=True)\n",
    "base_df.rename(columns={'name_x': 'name'}, inplace=True)\n",
    "base_df = base_df.merge(df3, on='name', how='left')\n",
    "\n",
    "# Dataset 4: Merge using 'pokedex_number' (Pokedex ID)\n",
    "df4 = data_frames[3]\n",
    "df4.rename(columns=lambda x: x.strip().lower().replace(' ', '_').replace('-', '_'), inplace=True)\n",
    "df4.rename(columns={'pokedex_number': 'id'}, inplace=True)\n",
    "base_df = base_df.merge(df4, on='id', how='left')\n",
    "\n",
    "# Dataset 5: Merge using 'pokedex_number' (Pokedex ID)\n",
    "df5 = data_frames[4]\n",
    "df5.rename(columns=lambda x: x.strip().lower().replace(' ', '_').replace('-', '_'), inplace=True)\n",
    "df5.rename(columns={'pokedex_number': 'id'}, inplace=True)\n",
    "base_df = base_df.merge(df5, on='id', how='left')\n",
    "\n",
    "# Dataset 6: Merge using 'pokedex_number' (Pokedex ID)\n",
    "df6 = data_frames[5]\n"
   ]
  },
  {
   "cell_type": "code",
   "execution_count": 34,
   "metadata": {},
   "outputs": [
    {
     "name": "stdout",
     "output_type": "stream",
     "text": [
      "Index(['name', 'id', 'type1', 'type2', 'classification', 'height_(m)',\n",
      "       'weight_(kg)', 'abilities', 'generation', 'legendary_status'],\n",
      "      dtype='object')\n",
      "Index(['id', 'name_x', 'height', 'weight', 'hp_x', 'attack_x', 'defense_x',\n",
      "       's_attack', 's_defense', 'speed_x', 'type', 'evo_set', 'info', 'name_y',\n",
      "       'type_1', 'type_2', 'total', 'hp_y', 'attack_y', 'defense_y', 'sp._atk',\n",
      "       'sp._def', 'speed_y', 'generation_x', 'legendary', 'type1_x', 'type2_x',\n",
      "       'evolution', 'abilities_x', 'against_bug', 'against_dark',\n",
      "       'against_dragon', 'against_electric', 'against_fairy', 'against_fight',\n",
      "       'against_fire', 'against_flying', 'against_ghost', 'against_grass',\n",
      "       'against_ground', 'against_ice', 'against_normal', 'against_poison',\n",
      "       'against_psychic', 'against_rock', 'against_steel', 'against_water',\n",
      "       'attack', 'base_egg_steps', 'base_happiness', 'base_total',\n",
      "       'capture_rate', 'classfication', 'defense', 'experience_growth',\n",
      "       'height_m', 'hp', 'japanese_name', 'name_y', 'percentage_male',\n",
      "       'sp_attack', 'sp_defense', 'speed', 'type1_y', 'type2_y', 'weight_kg',\n",
      "       'generation_y', 'is_legendary', 'name', 'type1', 'type2',\n",
      "       'classification', 'height_(m)', 'weight_(kg)', 'abilities_y',\n",
      "       'generation', 'legendary_status'],\n",
      "      dtype='object')\n"
     ]
    }
   ],
   "source": [
    "print(df6.columns)\n",
    "print(base_df.columns)"
   ]
  },
  {
   "cell_type": "code",
   "execution_count": 38,
   "metadata": {},
   "outputs": [
    {
     "name": "stdout",
     "output_type": "stream",
     "text": [
      "Index(['id', 'name_x', 'height', 'weight', 'hp_x', 'attack_x', 'defense_x',\n",
      "       's_attack', 's_defense', 'speed_x', 'type', 'evo_set', 'info', 'name_y',\n",
      "       'type_1', 'type_2', 'total', 'hp_y', 'attack_y', 'defense_y', 'sp._atk',\n",
      "       'sp._def', 'speed_y', 'generation_x', 'legendary', 'type1_x', 'type2_x',\n",
      "       'evolution', 'ability', 'against_bug', 'against_dark', 'against_dragon',\n",
      "       'against_electric', 'against_fairy', 'against_fight', 'against_fire',\n",
      "       'against_flying', 'against_ghost', 'against_grass', 'against_ground',\n",
      "       'against_ice', 'against_normal', 'against_poison', 'against_psychic',\n",
      "       'against_rock', 'against_steel', 'against_water', 'attack',\n",
      "       'base_egg_steps', 'base_happiness', 'base_total', 'capture_rate',\n",
      "       'classfication', 'defense', 'experience_growth', 'height_m', 'hp',\n",
      "       'japanese_name', 'name_y', 'percentage_male', 'sp_attack', 'sp_defense',\n",
      "       'speed', 'type1_y', 'type2_y', 'weight_kg', 'generation_y',\n",
      "       'is_legendary', 'name', 'type1_base', 'type2_base',\n",
      "       'classification_base', 'height_(m)_base', 'weight_(kg)_base',\n",
      "       'abilities_y', 'generation_base', 'legendary_status_base', 'type1_df6',\n",
      "       'type2_df6', 'classification_df6', 'height_(m)_df6', 'weight_(kg)_df6',\n",
      "       'abilities_base', 'generation_df6', 'legendary_status_df6', 'type1',\n",
      "       'type2', 'classification', 'height_(m)', 'weight_(kg)', 'abilities_df6',\n",
      "       'generation', 'legendary_status'],\n",
      "      dtype='object')\n"
     ]
    }
   ],
   "source": [
    "# Standardize column names for df6\n",
    "df6.rename(columns=lambda x: x.strip().lower().replace(' ', '_').replace('-', '_'), inplace=True)\n",
    "\n",
    "# Standardize column names for base_df\n",
    "base_df.rename(columns=lambda x: x.strip().lower().replace(' ', '_').replace('-', '_'), inplace=True)\n",
    "\n",
    "# Keep only relevant columns in df6\n",
    "df6 = df6[['id', 'type1', 'type2', 'classification', 'height_(m)', 'weight_(kg)', 'abilities', 'generation', 'legendary_status']]\n",
    "\n",
    "base_df.rename(columns={'abilities_x': 'ability'}, inplace=True)\n",
    "# Merge df6 into base_df using 'id', specifying suffixes to avoid duplicate column names\n",
    "base_df = base_df.merge(df6, on='id', how='left', suffixes=('_base', '_df6'))\n",
    "\n",
    "# Print the updated column names of base_df\n",
    "print(base_df.columns)"
   ]
  },
  {
   "cell_type": "code",
   "execution_count": 40,
   "metadata": {},
   "outputs": [
    {
     "name": "stdout",
     "output_type": "stream",
     "text": [
      "   id      name_x  height  weight  hp_x  attack_x  defense_x  s_attack  \\\n",
      "0   1   bulbasaur       7      69    45        49         49        65   \n",
      "1   2     ivysaur      10     130    60        62         63        80   \n",
      "2   3    venusaur      20    1000    80        82         83       100   \n",
      "3   3    venusaur      20    1000    80        82         83       100   \n",
      "4   4  charmander       6      85    39        52         43        60   \n",
      "\n",
      "   s_defense  speed_x  ... generation_df6  legendary_status_df6  type1  \\\n",
      "0         65       45  ...            1.0                    No  Grass   \n",
      "1         80       60  ...            1.0                    No  Grass   \n",
      "2        100       80  ...            1.0                    No  Grass   \n",
      "3        100       80  ...            1.0                    No  Grass   \n",
      "4         50       65  ...            1.0                    No   Fire   \n",
      "\n",
      "    type2  classification height_(m)  weight_(kg)          abilities_df6  \\\n",
      "0  Poison    Seed Pokémon        0.7          6.9  Overgrow, Chlorophyll   \n",
      "1  Poison    Seed Pokémon        1.0         13.0  Overgrow, Chlorophyll   \n",
      "2  Poison    Seed Pokémon        2.0        100.0  Overgrow, Chlorophyll   \n",
      "3  Poison    Seed Pokémon        2.0        100.0  Overgrow, Chlorophyll   \n",
      "4     NaN  Lizard Pokémon        0.6          8.5     Blaze, Solar-power   \n",
      "\n",
      "   generation  legendary_status  \n",
      "0         1.0                No  \n",
      "1         1.0                No  \n",
      "2         1.0                No  \n",
      "3         1.0                No  \n",
      "4         1.0                No  \n",
      "\n",
      "[5 rows x 93 columns]\n"
     ]
    }
   ],
   "source": [
    "\n",
    "\n",
    "\n",
    "\n",
    "\n",
    "# Final unified DataFrame\n",
    "print(base_df.head())"
   ]
  },
  {
   "cell_type": "code",
   "execution_count": 41,
   "metadata": {},
   "outputs": [
    {
     "name": "stdout",
     "output_type": "stream",
     "text": [
      "1104\n",
      "Index(['id', 'name_x', 'height', 'weight', 'hp_x', 'attack_x', 'defense_x',\n",
      "       's_attack', 's_defense', 'speed_x', 'type', 'evo_set', 'info', 'name_y',\n",
      "       'type_1', 'type_2', 'total', 'hp_y', 'attack_y', 'defense_y', 'sp._atk',\n",
      "       'sp._def', 'speed_y', 'generation_x', 'legendary', 'type1_x', 'type2_x',\n",
      "       'evolution', 'ability', 'against_bug', 'against_dark', 'against_dragon',\n",
      "       'against_electric', 'against_fairy', 'against_fight', 'against_fire',\n",
      "       'against_flying', 'against_ghost', 'against_grass', 'against_ground',\n",
      "       'against_ice', 'against_normal', 'against_poison', 'against_psychic',\n",
      "       'against_rock', 'against_steel', 'against_water', 'attack',\n",
      "       'base_egg_steps', 'base_happiness', 'base_total', 'capture_rate',\n",
      "       'classfication', 'defense', 'experience_growth', 'height_m', 'hp',\n",
      "       'japanese_name', 'name_y', 'percentage_male', 'sp_attack', 'sp_defense',\n",
      "       'speed', 'type1_y', 'type2_y', 'weight_kg', 'generation_y',\n",
      "       'is_legendary', 'name', 'type1_base', 'type2_base',\n",
      "       'classification_base', 'height_(m)_base', 'weight_(kg)_base',\n",
      "       'abilities_y', 'generation_base', 'legendary_status_base', 'type1_df6',\n",
      "       'type2_df6', 'classification_df6', 'height_(m)_df6', 'weight_(kg)_df6',\n",
      "       'abilities_base', 'generation_df6', 'legendary_status_df6', 'type1',\n",
      "       'type2', 'classification', 'height_(m)', 'weight_(kg)', 'abilities_df6',\n",
      "       'generation', 'legendary_status'],\n",
      "      dtype='object')\n"
     ]
    }
   ],
   "source": [
    "print(len(base_df))\n",
    "print(base_df.columns)"
   ]
  },
  {
   "cell_type": "code",
   "execution_count": 42,
   "metadata": {},
   "outputs": [],
   "source": [
    "base_df.to_csv('PokemonDataSet_AA_TEC.csv', index=False)"
   ]
  }
 ],
 "metadata": {
  "kernelspec": {
   "display_name": "Python 3",
   "language": "python",
   "name": "python3"
  },
  "language_info": {
   "codemirror_mode": {
    "name": "ipython",
    "version": 3
   },
   "file_extension": ".py",
   "mimetype": "text/x-python",
   "name": "python",
   "nbconvert_exporter": "python",
   "pygments_lexer": "ipython3",
   "version": "3.12.9"
  }
 },
 "nbformat": 4,
 "nbformat_minor": 2
}
